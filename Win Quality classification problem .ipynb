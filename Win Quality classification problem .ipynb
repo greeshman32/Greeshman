{
  "nbformat": 4,
  "nbformat_minor": 0,
  "metadata": {
    "colab": {
      "name": "Untitled9.ipynb",
      "provenance": [],
      "authorship_tag": "ABX9TyNc+bEp0rdfND9jhvsQCPVZ",
      "include_colab_link": true
    },
    "kernelspec": {
      "name": "python3",
      "display_name": "Python 3"
    },
    "language_info": {
      "name": "python"
    }
  },
  "cells": [
    {
      "cell_type": "markdown",
      "metadata": {
        "id": "view-in-github",
        "colab_type": "text"
      },
      "source": [
        "<a href=\"https://colab.research.google.com/github/greeshman32/Greeshman/blob/master/Win%20Quality%20classification%20problem%20.ipynb\" target=\"_parent\"><img src=\"https://colab.research.google.com/assets/colab-badge.svg\" alt=\"Open In Colab\"/></a>"
      ]
    },
    {
      "cell_type": "code",
      "metadata": {
        "colab": {
          "base_uri": "https://localhost:8080/"
        },
        "id": "rwVQzkkuAman",
        "outputId": "555babc9-071b-41c1-dd38-213aa8253981"
      },
      "source": [
        "! kaggle competitions download -c 'Win-Quality'"
      ],
      "execution_count": null,
      "outputs": [
        {
          "output_type": "stream",
          "text": [
            "Traceback (most recent call last):\n",
            "  File \"/usr/local/bin/kaggle\", line 5, in <module>\n",
            "    from kaggle.cli import main\n",
            "  File \"/usr/local/lib/python2.7/dist-packages/kaggle/__init__.py\", line 23, in <module>\n",
            "    api.authenticate()\n",
            "  File \"/usr/local/lib/python2.7/dist-packages/kaggle/api/kaggle_api_extended.py\", line 146, in authenticate\n",
            "    self.config_file, self.config_dir))\n",
            "IOError: Could not find kaggle.json. Make sure it's located in /root/.kaggle. Or use the environment method.\n"
          ],
          "name": "stdout"
        }
      ]
    },
    {
      "cell_type": "code",
      "metadata": {
        "id": "kyUa99FqA6PG"
      },
      "source": [
        "import pandas as pd\n",
        "import numpy as np\n",
        "import seaborn as se"
      ],
      "execution_count": 3,
      "outputs": []
    },
    {
      "cell_type": "code",
      "metadata": {
        "id": "znV-X9OoBqFR"
      },
      "source": [
        "data=pd.read_csv('winequalityN.csv')"
      ],
      "execution_count": 5,
      "outputs": []
    },
    {
      "cell_type": "code",
      "metadata": {
        "colab": {
          "base_uri": "https://localhost:8080/"
        },
        "id": "oZaaSTPgDUDO",
        "outputId": "e1ebe514-f0ab-4732-d88c-305d8e967a57"
      },
      "source": [
        "data.info()"
      ],
      "execution_count": 6,
      "outputs": [
        {
          "output_type": "stream",
          "text": [
            "<class 'pandas.core.frame.DataFrame'>\n",
            "RangeIndex: 6497 entries, 0 to 6496\n",
            "Data columns (total 13 columns):\n",
            " #   Column                Non-Null Count  Dtype  \n",
            "---  ------                --------------  -----  \n",
            " 0   type                  6497 non-null   object \n",
            " 1   fixed acidity         6487 non-null   float64\n",
            " 2   volatile acidity      6489 non-null   float64\n",
            " 3   citric acid           6494 non-null   float64\n",
            " 4   residual sugar        6495 non-null   float64\n",
            " 5   chlorides             6495 non-null   float64\n",
            " 6   free sulfur dioxide   6497 non-null   float64\n",
            " 7   total sulfur dioxide  6497 non-null   float64\n",
            " 8   density               6497 non-null   float64\n",
            " 9   pH                    6488 non-null   float64\n",
            " 10  sulphates             6493 non-null   float64\n",
            " 11  alcohol               6497 non-null   float64\n",
            " 12  quality               6497 non-null   int64  \n",
            "dtypes: float64(11), int64(1), object(1)\n",
            "memory usage: 660.0+ KB\n"
          ],
          "name": "stdout"
        }
      ]
    },
    {
      "cell_type": "code",
      "metadata": {
        "colab": {
          "base_uri": "https://localhost:8080/"
        },
        "id": "S_6HCvjwDY5a",
        "outputId": "6a45878c-ebb9-4aeb-fadd-d056acc16764"
      },
      "source": [
        "from sklearn.preprocessing import LabelEncoder\n",
        "le=LabelEncoder()\n",
        "data['type']=le.fit_transform(data[['type']])"
      ],
      "execution_count": 7,
      "outputs": [
        {
          "output_type": "stream",
          "text": [
            "/usr/local/lib/python3.7/dist-packages/sklearn/preprocessing/_label.py:251: DataConversionWarning: A column-vector y was passed when a 1d array was expected. Please change the shape of y to (n_samples, ), for example using ravel().\n",
            "  y = column_or_1d(y, warn=True)\n"
          ],
          "name": "stderr"
        }
      ]
    },
    {
      "cell_type": "code",
      "metadata": {
        "colab": {
          "base_uri": "https://localhost:8080/",
          "height": 484
        },
        "id": "CaDsI-gsD1Bg",
        "outputId": "8e68717f-c217-43de-cdc5-666d71e6c5aa"
      },
      "source": [
        "print(data.head())\n",
        "se.countplot(data['type'])"
      ],
      "execution_count": 73,
      "outputs": [
        {
          "output_type": "stream",
          "text": [
            "   type  fixed acidity  volatile acidity  ...  sulphates  alcohol  quality\n",
            "0     1            7.0              0.27  ...       0.45      8.8        6\n",
            "1     1            6.3              0.30  ...       0.49      9.5        6\n",
            "2     1            8.1              0.28  ...       0.44     10.1        6\n",
            "3     1            7.2              0.23  ...       0.40      9.9        6\n",
            "4     1            7.2              0.23  ...       0.40      9.9        6\n",
            "\n",
            "[5 rows x 13 columns]\n"
          ],
          "name": "stdout"
        },
        {
          "output_type": "stream",
          "text": [
            "/usr/local/lib/python3.7/dist-packages/seaborn/_decorators.py:43: FutureWarning: Pass the following variable as a keyword arg: x. From version 0.12, the only valid positional argument will be `data`, and passing other arguments without an explicit keyword will result in an error or misinterpretation.\n",
            "  FutureWarning\n"
          ],
          "name": "stderr"
        },
        {
          "output_type": "execute_result",
          "data": {
            "text/plain": [
              "<matplotlib.axes._subplots.AxesSubplot at 0x7fa0ef506950>"
            ]
          },
          "metadata": {
            "tags": []
          },
          "execution_count": 73
        },
        {
          "output_type": "display_data",
          "data": {
            "image/png": "[encoded data removed]",
            "text/plain": [
              "<Figure size 432x288 with 1 Axes>"
            ]
          },
          "metadata": {
            "tags": [],
            "needs_background": "light"
          }
        }
      ]
    },
    {
      "cell_type": "code",
      "metadata": {
        "colab": {
          "base_uri": "https://localhost:8080/"
        },
        "id": "57apf4-wD24m",
        "outputId": "09f6d86d-117d-4394-bb6c-22e28787a88a"
      },
      "source": [
        "data.isnull().sum()"
      ],
      "execution_count": 9,
      "outputs": [
        {
          "output_type": "execute_result",
          "data": {
            "text/plain": [
              "type                     0\n",
              "fixed acidity           10\n",
              "volatile acidity         8\n",
              "citric acid              3\n",
              "residual sugar           2\n",
              "chlorides                2\n",
              "free sulfur dioxide      0\n",
              "total sulfur dioxide     0\n",
              "density                  0\n",
              "pH                       9\n",
              "sulphates                4\n",
              "alcohol                  0\n",
              "quality                  0\n",
              "dtype: int64"
            ]
          },
          "metadata": {
            "tags": []
          },
          "execution_count": 9
        }
      ]
    },
    {
      "cell_type": "code",
      "metadata": {
        "id": "K2pVxt3nD6wJ"
      },
      "source": [
        "from sklearn.impute import SimpleImputer\n",
        "si=SimpleImputer(missing_values=np.nan,strategy='mean')"
      ],
      "execution_count": 11,
      "outputs": []
    },
    {
      "cell_type": "code",
      "metadata": {
        "id": "Q23hM3vMETv4"
      },
      "source": [
        "df=si.fit_transform(data)"
      ],
      "execution_count": 15,
      "outputs": []
    },
    {
      "cell_type": "code",
      "metadata": {
        "colab": {
          "base_uri": "https://localhost:8080/"
        },
        "id": "A4pFxr5xEmD9",
        "outputId": "ec6e6ce1-b1f4-4f27-c81d-f2dc24732948"
      },
      "source": [
        "df"
      ],
      "execution_count": 16,
      "outputs": [
        {
          "output_type": "execute_result",
          "data": {
            "text/plain": [
              "array([[ 1.   ,  7.   ,  0.27 , ...,  0.45 ,  8.8  ,  6.   ],\n",
              "       [ 1.   ,  6.3  ,  0.3  , ...,  0.49 ,  9.5  ,  6.   ],\n",
              "       [ 1.   ,  8.1  ,  0.28 , ...,  0.44 , 10.1  ,  6.   ],\n",
              "       ...,\n",
              "       [ 0.   ,  6.3  ,  0.51 , ...,  0.75 , 11.   ,  6.   ],\n",
              "       [ 0.   ,  5.9  ,  0.645, ...,  0.71 , 10.2  ,  5.   ],\n",
              "       [ 0.   ,  6.   ,  0.31 , ...,  0.66 , 11.   ,  6.   ]])"
            ]
          },
          "metadata": {
            "tags": []
          },
          "execution_count": 16
        }
      ]
    },
    {
      "cell_type": "code",
      "metadata": {
        "id": "uCR7CuCtEmjy"
      },
      "source": [
        "x=df[:,0]\n",
        "y=df[:,1:]\n"
      ],
      "execution_count": 17,
      "outputs": []
    },
    {
      "cell_type": "code",
      "metadata": {
        "colab": {
          "base_uri": "https://localhost:8080/"
        },
        "id": "oF60OUweE3RW",
        "outputId": "d3bbc518-3bf0-47a4-c432-1a9e10c55e53"
      },
      "source": [
        "print(y)"
      ],
      "execution_count": 18,
      "outputs": [
        {
          "output_type": "stream",
          "text": [
            "[[ 7.     0.27   0.36  ...  0.45   8.8    6.   ]\n",
            " [ 6.3    0.3    0.34  ...  0.49   9.5    6.   ]\n",
            " [ 8.1    0.28   0.4   ...  0.44  10.1    6.   ]\n",
            " ...\n",
            " [ 6.3    0.51   0.13  ...  0.75  11.     6.   ]\n",
            " [ 5.9    0.645  0.12  ...  0.71  10.2    5.   ]\n",
            " [ 6.     0.31   0.47  ...  0.66  11.     6.   ]]\n"
          ],
          "name": "stdout"
        }
      ]
    },
    {
      "cell_type": "code",
      "metadata": {
        "id": "a8TZsLX1E4WY"
      },
      "source": [
        "from sklearn.model_selection import train_test_split\n",
        "x_train,x_test,y_train,y_test=train_test_split(y,x,test_size=0.3,random_state=0)"
      ],
      "execution_count": 26,
      "outputs": []
    },
    {
      "cell_type": "code",
      "metadata": {
        "id": "XrPDZcZaFWU6"
      },
      "source": [
        "from sklearn.preprocessing import StandardScaler\n",
        "ss=StandardScaler()\n",
        "x1_train=ss.fit_transform(x_train)\n",
        "x1_test=ss.transform(x_test)"
      ],
      "execution_count": 27,
      "outputs": []
    },
    {
      "cell_type": "code",
      "metadata": {
        "colab": {
          "base_uri": "https://localhost:8080/"
        },
        "id": "VqQxYlowF_r3",
        "outputId": "4421a86f-9e55-4793-a13c-d8e7fdcc3515"
      },
      "source": [
        "x1_train"
      ],
      "execution_count": 28,
      "outputs": [
        {
          "output_type": "execute_result",
          "data": {
            "text/plain": [
              "array([[-0.02802151, -1.08105098, -0.40741857, ...,  0.11296885,\n",
              "        -0.33589118, -0.94043953],\n",
              "       [ 0.04779783, -0.72094224, -0.05747144, ..., -1.28054951,\n",
              "         2.03812837,  1.34201499],\n",
              "       [ 1.26090714, -1.26110536,  1.20233824, ..., -1.41326555,\n",
              "        -0.50546401, -0.94043953],\n",
              "       ...,\n",
              "       [ 0.50271382, -0.06074287, -0.26743972, ..., -1.01511744,\n",
              "        -1.43811455,  0.20078773],\n",
              "       [ 1.26090714, -0.48086974,  0.08250742, ..., -0.48425331,\n",
              "         0.2576137 ,  0.20078773],\n",
              "       [ 0.50271382,  1.01958336,  0.15249684, ..., -0.15246322,\n",
              "        -0.4206776 , -0.94043953]])"
            ]
          },
          "metadata": {
            "tags": []
          },
          "execution_count": 28
        }
      ]
    },
    {
      "cell_type": "code",
      "metadata": {
        "colab": {
          "base_uri": "https://localhost:8080/"
        },
        "id": "2Q1fFFRQGJEG",
        "outputId": "ec11bc71-da8e-45c1-ae7c-7faeea240969"
      },
      "source": [
        "x1_test"
      ],
      "execution_count": 29,
      "outputs": [
        {
          "output_type": "execute_result",
          "data": {
            "text/plain": [
              "array([[ 3.53548710e+00,  2.39347748e-01,  1.34231710e+00, ...,\n",
              "         1.50648721e+00, -8.15319469e-02,  2.00787730e-01],\n",
              "       [ 1.33672647e+00,  7.19492741e-01, -5.74714380e-02, ...,\n",
              "         6.43832984e-01, -8.44609659e-01,  2.00787730e-01],\n",
              "       [ 1.99436490e-01, -8.40978487e-01,  6.42422829e-01, ...,\n",
              "        -8.61052044e-02,  5.11972941e-01, -9.40439528e-01],\n",
              "       ...,\n",
              "       [ 1.26090714e+00, -2.40797246e-01,  2.22486269e-01, ...,\n",
              "        -5.50611324e-01,  8.51118591e-01,  1.34201499e+00],\n",
              "       [ 5.02713818e-01, -7.24748940e-04,  2.92475696e-01, ...,\n",
              "         4.66108298e-02,  5.96759353e-01,  1.34201499e+00],\n",
              "       [-2.80215068e-02,  1.55974648e+00, -1.94718596e+00, ...,\n",
              "         1.12968847e-01, -8.44609659e-01, -9.40439528e-01]])"
            ]
          },
          "metadata": {
            "tags": []
          },
          "execution_count": 29
        }
      ]
    },
    {
      "cell_type": "code",
      "metadata": {
        "id": "koHvLsuGNvVd"
      },
      "source": [
        "from sklearn.tree import DecisionTreeClassifier"
      ],
      "execution_count": 34,
      "outputs": []
    },
    {
      "cell_type": "code",
      "metadata": {
        "id": "vS0w94iAN2Ng"
      },
      "source": [
        "clf=DecisionTreeClassifier(max_depth=5)"
      ],
      "execution_count": 35,
      "outputs": []
    },
    {
      "cell_type": "code",
      "metadata": {
        "colab": {
          "base_uri": "https://localhost:8080/"
        },
        "id": "IjQD55odOsbM",
        "outputId": "bf62bbcc-3c90-4b8d-f0a5-610643fe3d19"
      },
      "source": [
        "clf.fit(x1_train,y_train)"
      ],
      "execution_count": 36,
      "outputs": [
        {
          "output_type": "execute_result",
          "data": {
            "text/plain": [
              "DecisionTreeClassifier(ccp_alpha=0.0, class_weight=None, criterion='gini',\n",
              "                       max_depth=5, max_features=None, max_leaf_nodes=None,\n",
              "                       min_impurity_decrease=0.0, min_impurity_split=None,\n",
              "                       min_samples_leaf=1, min_samples_split=2,\n",
              "                       min_weight_fraction_leaf=0.0, presort='deprecated',\n",
              "                       random_state=None, splitter='best')"
            ]
          },
          "metadata": {
            "tags": []
          },
          "execution_count": 36
        }
      ]
    },
    {
      "cell_type": "code",
      "metadata": {
        "id": "vFZT6WtUOyyN"
      },
      "source": [
        "predtest=clf.predict(x1_test)\n",
        "predtrain=clf.predict(x1_train)"
      ],
      "execution_count": 63,
      "outputs": []
    },
    {
      "cell_type": "code",
      "metadata": {
        "id": "Ka5JL04MO4v8"
      },
      "source": [
        "predtest=np.array(predtest,dtype=int)\n",
        "predtrain=np.array(predtrain,dtype=int)"
      ],
      "execution_count": 64,
      "outputs": []
    },
    {
      "cell_type": "code",
      "metadata": {
        "colab": {
          "base_uri": "https://localhost:8080/"
        },
        "id": "rr_SqoczO5VE",
        "outputId": "993327ad-a253-4f9c-9840-8c1f61b054be"
      },
      "source": [
        "predtrain.shape"
      ],
      "execution_count": 65,
      "outputs": [
        {
          "output_type": "execute_result",
          "data": {
            "text/plain": [
              "(4547,)"
            ]
          },
          "metadata": {
            "tags": []
          },
          "execution_count": 65
        }
      ]
    },
    {
      "cell_type": "code",
      "metadata": {
        "id": "7IkkvamtPGCE"
      },
      "source": [
        "from sklearn.metrics import accuracy_score\n",
        "acctest=accuracy_score(y_test,predtest)\n",
        "acctrain=accuracy_score(y_train,predtrain)"
      ],
      "execution_count": 66,
      "outputs": []
    },
    {
      "cell_type": "code",
      "metadata": {
        "colab": {
          "base_uri": "https://localhost:8080/"
        },
        "id": "s74_aB_-PdM0",
        "outputId": "7daf58ae-962e-4121-82e5-297490dbe0a0"
      },
      "source": [
        "print(acctest,acctrain)"
      ],
      "execution_count": 67,
      "outputs": [
        {
          "output_type": "stream",
          "text": [
            "0.9846153846153847 0.9909830657576424\n"
          ],
          "name": "stdout"
        }
      ]
    },
    {
      "cell_type": "code",
      "metadata": {
        "id": "oeoMqknrPeWc"
      },
      "source": [
        "from sklearn.metrics import confusion_matrix\n",
        "cmtest=confusion_matrix(y_test,predtest)\n",
        "cmtrain=confusion_matrix(y_train,predtrain)"
      ],
      "execution_count": 70,
      "outputs": []
    },
    {
      "cell_type": "code",
      "metadata": {
        "colab": {
          "base_uri": "https://localhost:8080/",
          "height": 282
        },
        "id": "693b3olDS-kG",
        "outputId": "d76d013a-b113-43e4-94c8-218168156052"
      },
      "source": [
        "se.heatmap(cmtest,annot=True,fmt='.0f')"
      ],
      "execution_count": 54,
      "outputs": [
        {
          "output_type": "execute_result",
          "data": {
            "text/plain": [
              "<matplotlib.axes._subplots.AxesSubplot at 0x7fa0ef879b50>"
            ]
          },
          "metadata": {
            "tags": []
          },
          "execution_count": 54
        },
        {
          "output_type": "display_data",
          "data": {
            "image/png": "[encoded data removed]",
            "text/plain": [
              "<Figure size 432x288 with 2 Axes>"
            ]
          },
          "metadata": {
            "tags": [],
            "needs_background": "light"
          }
        }
      ]
    },
    {
      "cell_type": "code",
      "metadata": {
        "colab": {
          "base_uri": "https://localhost:8080/",
          "height": 282
        },
        "id": "ZPrL2GUhS_aR",
        "outputId": "43e9d8fa-4da2-4fb0-9d09-306ff4888869"
      },
      "source": [
        "se.heatmap(cmtrain,annot=True,fmt='.0f')"
      ],
      "execution_count": 71,
      "outputs": [
        {
          "output_type": "execute_result",
          "data": {
            "text/plain": [
              "<matplotlib.axes._subplots.AxesSubplot at 0x7fa0ef7473d0>"
            ]
          },
          "metadata": {
            "tags": []
          },
          "execution_count": 71
        },
        {
          "output_type": "display_data",
          "data": {
            "image/png": "[encoded data removed]",
            "text/plain": [
              "<Figure size 432x288 with 2 Axes>"
            ]
          },
          "metadata": {
            "tags": [],
            "needs_background": "light"
          }
        }
      ]
    },
    {
      "cell_type": "code",
      "metadata": {
        "id": "TZO3VIz9VjVk"
      },
      "source": [
        ""
      ],
      "execution_count": null,
      "outputs": []
    }
  ]
}
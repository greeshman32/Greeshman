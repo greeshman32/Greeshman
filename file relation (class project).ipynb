{
  "nbformat": 4,
  "nbformat_minor": 0,
  "metadata": {
    "colab": {
      "name": "Untitled11.ipynb",
      "provenance": [],
      "authorship_tag": "ABX9TyNWBfCS0ob8Ki3u8tLMD8yb",
      "include_colab_link": true
    },
    "kernelspec": {
      "name": "python3",
      "display_name": "Python 3"
    },
    "language_info": {
      "name": "python"
    }
  },
  "cells": [
    {
      "cell_type": "markdown",
      "metadata": {
        "id": "view-in-github",
        "colab_type": "text"
      },
      "source": [
        "<a href=\"https://colab.research.google.com/github/greeshman32/Greeshman/blob/master/file%20relation%20(class%20project).ipynb\" target=\"_parent\"><img src=\"https://colab.research.google.com/assets/colab-badge.svg\" alt=\"Open In Colab\"/></a>"
      ]
    },
    {
      "cell_type": "code",
      "metadata": {
        "id": "puoq5HB4Sdql"
      },
      "source": [
        "import pandas as pd\n",
        "import numpy as np\n",
        "import seaborn as se"
      ],
      "execution_count": null,
      "outputs": []
    },
    {
      "cell_type": "code",
      "metadata": {
        "colab": {
          "base_uri": "https://localhost:8080/"
        },
        "id": "PuaoD5MMSrpw",
        "outputId": "18bbc01a-35ca-462c-e412-78ab3c65442f"
      },
      "source": [
        "data=pd.read_csv('file.csv')"
      ],
      "execution_count": 34,
      "outputs": [
        {
          "output_type": "stream",
          "text": [
            "/usr/local/lib/python3.7/dist-packages/IPython/core/interactiveshell.py:2718: DtypeWarning: Columns (11) have mixed types.Specify dtype option on import or set low_memory=False.\n",
            "  interactivity=interactivity, compiler=compiler, result=result)\n"
          ],
          "name": "stderr"
        }
      ]
    },
    {
      "cell_type": "code",
      "metadata": {
        "colab": {
          "base_uri": "https://localhost:8080/"
        },
        "id": "0xarcp5ISyD3",
        "outputId": "d4ac00bc-4bdf-4ed6-e96f-a5f1e6f1835b"
      },
      "source": [
        "data.shape"
      ],
      "execution_count": 35,
      "outputs": [
        {
          "output_type": "execute_result",
          "data": {
            "text/plain": [
              "(3444303, 12)"
            ]
          },
          "metadata": {
            "tags": []
          },
          "execution_count": 35
        }
      ]
    },
    {
      "cell_type": "code",
      "metadata": {
        "colab": {
          "base_uri": "https://localhost:8080/",
          "height": 195
        },
        "id": "yMTJlHeYSzmj",
        "outputId": "8347df0e-87e6-4996-9df9-5b7fae6dd076"
      },
      "source": [
        "data.head()"
      ],
      "execution_count": 36,
      "outputs": [
        {
          "output_type": "execute_result",
          "data": {
            "text/html": [
              "<div>\n",
              "<style scoped>\n",
              "    .dataframe tbody tr th:only-of-type {\n",
              "        vertical-align: middle;\n",
              "    }\n",
              "\n",
              "    .dataframe tbody tr th {\n",
              "        vertical-align: top;\n",
              "    }\n",
              "\n",
              "    .dataframe thead th {\n",
              "        text-align: right;\n",
              "    }\n",
              "</style>\n",
              "<table border=\"1\" class=\"dataframe\">\n",
              "  <thead>\n",
              "    <tr style=\"text-align: right;\">\n",
              "      <th></th>\n",
              "      <th>id_1</th>\n",
              "      <th>id_2</th>\n",
              "      <th>cmp_fname_c1</th>\n",
              "      <th>cmp_fname_c2</th>\n",
              "      <th>cmp_lname_c1</th>\n",
              "      <th>cmp_lname_c2</th>\n",
              "      <th>cmp_sex</th>\n",
              "      <th>cmp_bd</th>\n",
              "      <th>cmp_bm</th>\n",
              "      <th>cmp_by</th>\n",
              "      <th>cmp_plz</th>\n",
              "      <th>is_match</th>\n",
              "    </tr>\n",
              "  </thead>\n",
              "  <tbody>\n",
              "    <tr>\n",
              "      <th>0</th>\n",
              "      <td>607</td>\n",
              "      <td>53170</td>\n",
              "      <td>1</td>\n",
              "      <td>?</td>\n",
              "      <td>1.0</td>\n",
              "      <td>?</td>\n",
              "      <td>1</td>\n",
              "      <td>1</td>\n",
              "      <td>1</td>\n",
              "      <td>1</td>\n",
              "      <td>1</td>\n",
              "      <td>True</td>\n",
              "    </tr>\n",
              "    <tr>\n",
              "      <th>1</th>\n",
              "      <td>88569</td>\n",
              "      <td>88592</td>\n",
              "      <td>1</td>\n",
              "      <td>?</td>\n",
              "      <td>1.0</td>\n",
              "      <td>?</td>\n",
              "      <td>1</td>\n",
              "      <td>1</td>\n",
              "      <td>1</td>\n",
              "      <td>1</td>\n",
              "      <td>1</td>\n",
              "      <td>True</td>\n",
              "    </tr>\n",
              "    <tr>\n",
              "      <th>2</th>\n",
              "      <td>21282</td>\n",
              "      <td>26255</td>\n",
              "      <td>1</td>\n",
              "      <td>?</td>\n",
              "      <td>1.0</td>\n",
              "      <td>?</td>\n",
              "      <td>1</td>\n",
              "      <td>1</td>\n",
              "      <td>1</td>\n",
              "      <td>1</td>\n",
              "      <td>1</td>\n",
              "      <td>True</td>\n",
              "    </tr>\n",
              "    <tr>\n",
              "      <th>3</th>\n",
              "      <td>20995</td>\n",
              "      <td>42541</td>\n",
              "      <td>1</td>\n",
              "      <td>?</td>\n",
              "      <td>1.0</td>\n",
              "      <td>?</td>\n",
              "      <td>1</td>\n",
              "      <td>1</td>\n",
              "      <td>1</td>\n",
              "      <td>1</td>\n",
              "      <td>1</td>\n",
              "      <td>True</td>\n",
              "    </tr>\n",
              "    <tr>\n",
              "      <th>4</th>\n",
              "      <td>27989</td>\n",
              "      <td>34739</td>\n",
              "      <td>1</td>\n",
              "      <td>?</td>\n",
              "      <td>1.0</td>\n",
              "      <td>?</td>\n",
              "      <td>1</td>\n",
              "      <td>1</td>\n",
              "      <td>1</td>\n",
              "      <td>1</td>\n",
              "      <td>1</td>\n",
              "      <td>True</td>\n",
              "    </tr>\n",
              "  </tbody>\n",
              "</table>\n",
              "</div>"
            ],
            "text/plain": [
              "    id_1   id_2 cmp_fname_c1 cmp_fname_c2  ...  cmp_bm cmp_by  cmp_plz is_match\n",
              "0    607  53170            1            ?  ...       1      1        1     True\n",
              "1  88569  88592            1            ?  ...       1      1        1     True\n",
              "2  21282  26255            1            ?  ...       1      1        1     True\n",
              "3  20995  42541            1            ?  ...       1      1        1     True\n",
              "4  27989  34739            1            ?  ...       1      1        1     True\n",
              "\n",
              "[5 rows x 12 columns]"
            ]
          },
          "metadata": {
            "tags": []
          },
          "execution_count": 36
        }
      ]
    },
    {
      "cell_type": "code",
      "metadata": {
        "colab": {
          "base_uri": "https://localhost:8080/"
        },
        "id": "qn1-P_BGTngW",
        "outputId": "4181b5cb-baf9-42cb-a283-05a0e401dfb2"
      },
      "source": [
        "data.info()"
      ],
      "execution_count": 37,
      "outputs": [
        {
          "output_type": "stream",
          "text": [
            "<class 'pandas.core.frame.DataFrame'>\n",
            "RangeIndex: 3444303 entries, 0 to 3444302\n",
            "Data columns (total 12 columns):\n",
            " #   Column        Dtype  \n",
            "---  ------        -----  \n",
            " 0   id_1          int64  \n",
            " 1   id_2          int64  \n",
            " 2   cmp_fname_c1  object \n",
            " 3   cmp_fname_c2  object \n",
            " 4   cmp_lname_c1  float64\n",
            " 5   cmp_lname_c2  object \n",
            " 6   cmp_sex       int64  \n",
            " 7   cmp_bd        object \n",
            " 8   cmp_bm        object \n",
            " 9   cmp_by        object \n",
            " 10  cmp_plz       object \n",
            " 11  is_match      object \n",
            "dtypes: float64(1), int64(3), object(8)\n",
            "memory usage: 315.3+ MB\n"
          ],
          "name": "stdout"
        }
      ]
    },
    {
      "cell_type": "code",
      "metadata": {
        "id": "MajzC4BwTrjb"
      },
      "source": [
        "data=data.replace(\"?\",np.nan)"
      ],
      "execution_count": 38,
      "outputs": []
    },
    {
      "cell_type": "code",
      "metadata": {
        "colab": {
          "base_uri": "https://localhost:8080/"
        },
        "id": "-AveVdW2UL7f",
        "outputId": "6bb34976-32c1-4545-94f6-c60c469f69bf"
      },
      "source": [
        "data.isnull().sum()"
      ],
      "execution_count": 42,
      "outputs": [
        {
          "output_type": "execute_result",
          "data": {
            "text/plain": [
              "cmp_fname_c1     590\n",
              "cmp_lname_c1       0\n",
              "cmp_sex            0\n",
              "cmp_bd           487\n",
              "cmp_bm           487\n",
              "cmp_by           487\n",
              "cmp_plz         7748\n",
              "is_match           1\n",
              "dtype: int64"
            ]
          },
          "metadata": {
            "tags": []
          },
          "execution_count": 42
        }
      ]
    },
    {
      "cell_type": "code",
      "metadata": {
        "id": "--n1s5K5UXe1"
      },
      "source": [
        "data=data.drop(['cmp_fname_c2','cmp_lname_c2'],axis=1)"
      ],
      "execution_count": 41,
      "outputs": []
    },
    {
      "cell_type": "code",
      "metadata": {
        "id": "-amgk_X8V5vi"
      },
      "source": [
        "from sklearn.impute import SimpleImputer\n",
        "si=SimpleImputer(missing_values=np.nan, strategy='mean')\n",
        "train=si.fit_transform(train)"
      ],
      "execution_count": 44,
      "outputs": []
    },
    {
      "cell_type": "code",
      "metadata": {
        "colab": {
          "base_uri": "https://localhost:8080/"
        },
        "id": "w74e22OPY_Sx",
        "outputId": "e3df6715-8a41-4e0d-b263-d35e8a539e2d"
      },
      "source": [
        "data"
      ],
      "execution_count": 33,
      "outputs": [
        {
          "output_type": "execute_result",
          "data": {
            "text/plain": [
              "array([[1.        , 1.        , 1.        , ..., 1.        , 1.        ,\n",
              "        1.        ],\n",
              "       [1.        , 1.        , 1.        , ..., 1.        , 1.        ,\n",
              "        1.        ],\n",
              "       [1.        , 1.        , 1.        , ..., 1.        , 1.        ,\n",
              "        1.        ],\n",
              "       ...,\n",
              "       [1.        , 0.        , 1.        , ..., 0.        , 0.        ,\n",
              "        0.        ],\n",
              "       [1.        , 0.1       , 1.        , ..., 0.        , 0.        ,\n",
              "        0.        ],\n",
              "       [1.        , 0.33333333, 1.        , ..., 0.22266782, 0.0055384 ,\n",
              "        0.00364631]])"
            ]
          },
          "metadata": {
            "tags": []
          },
          "execution_count": 33
        }
      ]
    },
    {
      "cell_type": "code",
      "metadata": {
        "id": "lpMijF2nZdmu"
      },
      "source": [
        "y=data['is_match']\n",
        "train=data.drop(['is_match'],axis=1)"
      ],
      "execution_count": 43,
      "outputs": []
    },
    {
      "cell_type": "code",
      "metadata": {
        "colab": {
          "base_uri": "https://localhost:8080/"
        },
        "id": "xjGf1EgIZ7eH",
        "outputId": "76a42e92-0c32-411c-a56d-5d5eed533931"
      },
      "source": [
        "train"
      ],
      "execution_count": 46,
      "outputs": [
        {
          "output_type": "execute_result",
          "data": {
            "text/plain": [
              "array([[1.        , 1.        , 1.        , ..., 1.        , 1.        ,\n",
              "        1.        ],\n",
              "       [1.        , 1.        , 1.        , ..., 1.        , 1.        ,\n",
              "        1.        ],\n",
              "       [1.        , 1.        , 1.        , ..., 1.        , 1.        ,\n",
              "        1.        ],\n",
              "       ...,\n",
              "       [1.        , 0.        , 1.        , ..., 1.        , 0.        ,\n",
              "        0.        ],\n",
              "       [1.        , 0.1       , 1.        , ..., 1.        , 0.        ,\n",
              "        0.        ],\n",
              "       [1.        , 0.33333333, 1.        , ..., 0.48888704, 0.22266782,\n",
              "        0.0055384 ]])"
            ]
          },
          "metadata": {
            "tags": []
          },
          "execution_count": 46
        }
      ]
    },
    {
      "cell_type": "code",
      "metadata": {
        "id": "evcilVx6aEHB"
      },
      "source": [
        "si1=SimpleImputer(missing_values=np.nan,strategy='most_frequent')"
      ],
      "execution_count": 50,
      "outputs": []
    },
    {
      "cell_type": "code",
      "metadata": {
        "id": "WgUvaoZBaOd7"
      },
      "source": [
        "y=np.array(y)"
      ],
      "execution_count": 55,
      "outputs": []
    },
    {
      "cell_type": "code",
      "metadata": {
        "colab": {
          "base_uri": "https://localhost:8080/"
        },
        "id": "n78wbMDiaiBM",
        "outputId": "a99d04f5-b2f6-4a32-ca45-60cdf76b9f36"
      },
      "source": [
        "from sklearn.preprocessing import LabelEncoder\n",
        "le=LabelEncoder()\n",
        "y=le.fit_transform(y)\n",
        "print(y)"
      ],
      "execution_count": 61,
      "outputs": [
        {
          "output_type": "stream",
          "text": [
            "[1 1 1 ... 0 0 1]\n"
          ],
          "name": "stdout"
        }
      ]
    },
    {
      "cell_type": "code",
      "metadata": {
        "id": "JOP8PTU1avIy"
      },
      "source": [
        "from sklearn.model_selection import train_test_split\n",
        "\n",
        "x_train,X_test,y_train,y_test=train_test_split(train,y,test_size=0.3,random_state=0)"
      ],
      "execution_count": 63,
      "outputs": []
    },
    {
      "cell_type": "code",
      "metadata": {
        "colab": {
          "base_uri": "https://localhost:8080/"
        },
        "id": "oSFRBFmAbw7T",
        "outputId": "d8ce6b8d-88f4-4df3-9b1c-33049e972541"
      },
      "source": [
        "from sklearn.svm import SVC\n",
        "clf=SVC(C=10)\n",
        "clf.fit(x_train,y_train)"
      ],
      "execution_count": 64,
      "outputs": [
        {
          "output_type": "execute_result",
          "data": {
            "text/plain": [
              "SVC(C=10, break_ties=False, cache_size=200, class_weight=None, coef0=0.0,\n",
              "    decision_function_shape='ovr', degree=3, gamma='scale', kernel='rbf',\n",
              "    max_iter=-1, probability=False, random_state=None, shrinking=True,\n",
              "    tol=0.001, verbose=False)"
            ]
          },
          "metadata": {
            "tags": []
          },
          "execution_count": 64
        }
      ]
    },
    {
      "cell_type": "code",
      "metadata": {
        "id": "LWcQEFxecJ3J"
      },
      "source": [
        "predtest=clf.predict(X_test)\n",
        "predtrain=clf.predict(x_train)"
      ],
      "execution_count": 68,
      "outputs": []
    },
    {
      "cell_type": "code",
      "metadata": {
        "colab": {
          "base_uri": "https://localhost:8080/"
        },
        "id": "sMf_PvPAcZgS",
        "outputId": "7bba5054-ea31-4926-9d75-1a098918b908"
      },
      "source": [
        "from sklearn.metrics import accuracy_score,confusion_matrix\n",
        "print(accuracy_score(predtest,y_test))\n",
        "print(accuracy_score(predtrain,y_train))"
      ],
      "execution_count": 70,
      "outputs": [
        {
          "output_type": "stream",
          "text": [
            "0.9999854832762504\n",
            "0.999990875200953\n"
          ],
          "name": "stdout"
        }
      ]
    },
    {
      "cell_type": "code",
      "metadata": {
        "id": "BLKgUrUVcxTU"
      },
      "source": [
        "cm=confusion_matrix(predtest,y_test)\n",
        "cm1=confusion_matrix(predtrain,y_train)"
      ],
      "execution_count": 72,
      "outputs": []
    },
    {
      "cell_type": "code",
      "metadata": {
        "colab": {
          "base_uri": "https://localhost:8080/",
          "height": 293
        },
        "id": "iM33ADv1db9L",
        "outputId": "84f528c7-082f-4d91-b889-bfc81a8afd8b"
      },
      "source": [
        "se.heatmap(cm,annot=True,fmt='.0f')\n"
      ],
      "execution_count": 75,
      "outputs": [
        {
          "output_type": "execute_result",
          "data": {
            "text/plain": [
              "<matplotlib.axes._subplots.AxesSubplot at 0x7fb727aed290>"
            ]
          },
          "metadata": {
            "tags": []
          },
          "execution_count": 75
        },
        {
          "output_type": "display_data",
          "data": {
            "image/png": "[encoded data removed]",
            "text/plain": [
              "<Figure size 432x288 with 2 Axes>"
            ]
          },
          "metadata": {
            "tags": [],
            "needs_background": "light"
          }
        }
      ]
    },
    {
      "cell_type": "code",
      "metadata": {
        "colab": {
          "base_uri": "https://localhost:8080/",
          "height": 293
        },
        "id": "BGfZfXm4dySc",
        "outputId": "e09bd00d-969f-40b7-cc3c-670af32aff3c"
      },
      "source": [
        "se.heatmap(cm1,annot=True,fmt='.0f')"
      ],
      "execution_count": 76,
      "outputs": [
        {
          "output_type": "execute_result",
          "data": {
            "text/plain": [
              "<matplotlib.axes._subplots.AxesSubplot at 0x7fb727a20e10>"
            ]
          },
          "metadata": {
            "tags": []
          },
          "execution_count": 76
        },
        {
          "output_type": "display_data",
          "data": {
            "image/png": "[encoded data removed]",
            "text/plain": [
              "<Figure size 432x288 with 2 Axes>"
            ]
          },
          "metadata": {
            "tags": [],
            "needs_background": "light"
          }
        }
      ]
    },
    {
      "cell_type": "code",
      "metadata": {
        "id": "Sr_Y2PgJeBjc"
      },
      "source": [
        ""
      ],
      "execution_count": null,
      "outputs": []
    }
  ]
}